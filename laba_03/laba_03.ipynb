{
 "cells": [
  {
   "cell_type": "markdown",
   "id": "335e579d",
   "metadata": {},
   "source": [
    "# Лабораторная работа №3"
   ]
  },
  {
   "cell_type": "code",
   "execution_count": 1,
   "id": "acbfc36c",
   "metadata": {},
   "outputs": [],
   "source": [
    "import numpy as np\n",
    "import pandas as pd\n",
    "\n",
    "import matplotlib\n",
    "import matplotlib.pyplot as plt\n",
    "matplotlib.style.use('ggplot')\n",
    "%matplotlib inline\n",
    "\n",
    "import os\n",
    "from sklearn.preprocessing import StandardScaler\n",
    "from sklearn.cluster import DBSCAN"
   ]
  },
  {
   "cell_type": "markdown",
   "id": "22e84676",
   "metadata": {},
   "source": [
    "### Импорт данных"
   ]
  },
  {
   "cell_type": "code",
   "execution_count": 2,
   "id": "b9a1f116",
   "metadata": {},
   "outputs": [
    {
     "name": "stdout",
     "output_type": "stream",
     "text": [
      "(48, 3)\n",
      "           Work Price Salary\n",
      "City                        \n",
      "Amsterdam  1714  65,6     49\n",
      "Athens     1792  53,8   30,4\n",
      "Bogota     2152  37,9   11,5\n",
      "Bombay     2052  30,3    5,3\n",
      "Brussels   1708  73,8   50,5\n"
     ]
    }
   ],
   "source": [
    "df = pd.read_csv(\"Econom_Cities_data.csv\", sep=\";\", index_col='City')\n",
    "print(df.shape)\n",
    "print(df.head())"
   ]
  },
  {
   "cell_type": "markdown",
   "id": "8665da85",
   "metadata": {},
   "source": [
    "Приведем Price и Salary к числу "
   ]
  },
  {
   "cell_type": "code",
   "execution_count": 3,
   "id": "73d90713",
   "metadata": {},
   "outputs": [],
   "source": [
    "df[\"Price\"]  = pd.to_numeric(df[\"Price\"].astype(str).str.replace(\",\", \".\"))\n",
    "df[\"Salary\"] = pd.to_numeric(df[\"Salary\"].astype(str).str.replace(\",\", \".\"))"
   ]
  },
  {
   "cell_type": "markdown",
   "id": "e6a549a5",
   "metadata": {},
   "source": [
    "Проверяем чтобы все данные теперь были числовые"
   ]
  },
  {
   "cell_type": "code",
   "execution_count": 4,
   "id": "fe1e5247",
   "metadata": {},
   "outputs": [
    {
     "data": {
      "text/html": [
       "<div>\n",
       "<style scoped>\n",
       "    .dataframe tbody tr th:only-of-type {\n",
       "        vertical-align: middle;\n",
       "    }\n",
       "\n",
       "    .dataframe tbody tr th {\n",
       "        vertical-align: top;\n",
       "    }\n",
       "\n",
       "    .dataframe thead th {\n",
       "        text-align: right;\n",
       "    }\n",
       "</style>\n",
       "<table border=\"1\" class=\"dataframe\">\n",
       "  <thead>\n",
       "    <tr style=\"text-align: right;\">\n",
       "      <th></th>\n",
       "      <th>Work</th>\n",
       "      <th>Price</th>\n",
       "      <th>Salary</th>\n",
       "    </tr>\n",
       "  </thead>\n",
       "  <tbody>\n",
       "    <tr>\n",
       "      <th>count</th>\n",
       "      <td>48.000000</td>\n",
       "      <td>48.000000</td>\n",
       "      <td>48.000000</td>\n",
       "    </tr>\n",
       "    <tr>\n",
       "      <th>mean</th>\n",
       "      <td>1384.958333</td>\n",
       "      <td>68.860417</td>\n",
       "      <td>-378.727083</td>\n",
       "    </tr>\n",
       "    <tr>\n",
       "      <th>std</th>\n",
       "      <td>2404.897007</td>\n",
       "      <td>21.784659</td>\n",
       "      <td>2027.338052</td>\n",
       "    </tr>\n",
       "    <tr>\n",
       "      <th>min</th>\n",
       "      <td>-9999.000000</td>\n",
       "      <td>30.300000</td>\n",
       "      <td>-9999.000000</td>\n",
       "    </tr>\n",
       "    <tr>\n",
       "      <th>25%</th>\n",
       "      <td>1740.750000</td>\n",
       "      <td>49.650000</td>\n",
       "      <td>12.250000</td>\n",
       "    </tr>\n",
       "    <tr>\n",
       "      <th>50%</th>\n",
       "      <td>1834.500000</td>\n",
       "      <td>70.500000</td>\n",
       "      <td>40.300000</td>\n",
       "    </tr>\n",
       "    <tr>\n",
       "      <th>75%</th>\n",
       "      <td>1972.750000</td>\n",
       "      <td>81.700000</td>\n",
       "      <td>58.700000</td>\n",
       "    </tr>\n",
       "    <tr>\n",
       "      <th>max</th>\n",
       "      <td>2375.000000</td>\n",
       "      <td>115.500000</td>\n",
       "      <td>100.000000</td>\n",
       "    </tr>\n",
       "  </tbody>\n",
       "</table>\n",
       "</div>"
      ],
      "text/plain": [
       "              Work       Price       Salary\n",
       "count    48.000000   48.000000    48.000000\n",
       "mean   1384.958333   68.860417  -378.727083\n",
       "std    2404.897007   21.784659  2027.338052\n",
       "min   -9999.000000   30.300000 -9999.000000\n",
       "25%    1740.750000   49.650000    12.250000\n",
       "50%    1834.500000   70.500000    40.300000\n",
       "75%    1972.750000   81.700000    58.700000\n",
       "max    2375.000000  115.500000   100.000000"
      ]
     },
     "execution_count": 4,
     "metadata": {},
     "output_type": "execute_result"
    }
   ],
   "source": [
    "df.describe()"
   ]
  },
  {
   "cell_type": "markdown",
   "id": "db9a240b",
   "metadata": {},
   "source": [
    "### Убираем выбросы"
   ]
  },
  {
   "cell_type": "code",
   "execution_count": 5,
   "id": "1e8da73e",
   "metadata": {},
   "outputs": [
    {
     "name": "stdout",
     "output_type": "stream",
     "text": [
      "Количество выбросов: 2\n",
      "Индексы (города) с выбросами:\n",
      "['Cairo', 'Jakarta']\n",
      "\n",
      "Дальше используем датафрейм df_clean\n"
     ]
    }
   ],
   "source": [
    "# Определяем квартили и межквартильный размах\n",
    "Q1 = df.quantile(0.25)\n",
    "Q3 = df.quantile(0.75)\n",
    "IQR = Q3 - Q1\n",
    "\n",
    "# определяем нижнюю и верхнюю границы\n",
    "lower = Q1 - 3.0 * IQR\n",
    "upper = Q3 + 3.0 * IQR\n",
    "\n",
    "# Определяем выбросы \n",
    "outlier_mask = ((df < lower) | (df > upper)).any(axis=1)\n",
    "\n",
    "#  Отдельно сохраним выбросы и чистые данные \n",
    "outliers = df[outlier_mask]\n",
    "df_clean = df[~outlier_mask]\n",
    "\n",
    "# Вывод информации \n",
    "print(f\"Количество выбросов: {outliers.shape[0]}\")\n",
    "print(\"Индексы (города) с выбросами:\")\n",
    "print(outliers.index.tolist())\n",
    "\n",
    "print()\n",
    "print('Дальше используем датафрейм df_clean')"
   ]
  },
  {
   "cell_type": "markdown",
   "id": "239c8543",
   "metadata": {},
   "source": [
    "### Стандартизируем данные\n",
    "\n",
    "т.к. данные находятся в разных диапазонах, нужна стандартизация\n",
    "\n",
    "Формула стандартизации: $z = \\frac{x - \\text{mean}}{\\text{std}}$"
   ]
  },
  {
   "cell_type": "code",
   "execution_count": 7,
   "id": "3c21900e",
   "metadata": {},
   "outputs": [
    {
     "name": "stdout",
     "output_type": "stream",
     "text": [
      "                Work  Price  Salary\n",
      "City                               \n",
      "Amsterdam      -0.96  -0.21    0.39\n",
      "Athens         -0.51  -0.77   -0.37\n",
      "Bogota          1.58  -1.52   -1.15\n",
      "Bombay          1.00  -1.88   -1.40\n",
      "Brussels       -1.00   0.17    0.45\n",
      "Buenos_Aires    0.53  -0.66   -1.10\n",
      "Caracas         0.93  -0.43   -1.17\n",
      "Chicago         0.26   0.18    0.91\n",
      "Copenhagen     -0.94   1.00    0.95\n",
      "Dublin         -0.70   0.28    0.08\n",
      "Dusseldorf     -1.08   0.40    0.84\n",
      "Frankfurt      -1.33   0.21    0.85\n",
      "Geneva          0.00   1.22    2.07\n",
      "Helsinki       -1.23   2.06    1.10\n",
      "Hong_Kong       2.87  -0.30   -0.48\n",
      "Houston         0.57   0.09    0.28\n",
      "Johannesburg    0.38  -0.90   -0.63\n",
      "Kuala_Lumpur    1.66  -1.26   -1.21\n",
      "Lagos          -0.54  -1.18   -1.50\n",
      "Lisbon         -0.80  -0.66   -0.85\n",
      "London         -0.83   0.67    0.27\n",
      "Los_Angeles     1.09   0.46    1.05\n",
      "Luxembourg     -0.65   0.05    1.29\n",
      "Madrid         -0.99   1.12    0.43\n",
      "Manila          2.25  -1.42   -1.45\n",
      "Mexico_City     0.37  -0.96   -1.38\n",
      "Milan          -0.62   0.56    0.56\n",
      "Montreal       -0.31   0.12    0.68\n",
      "Nairobi         0.45  -1.19   -1.38\n",
      "New_York        0.36   0.62    1.07\n",
      "Nicosia        -0.32  -1.05   -0.46\n",
      "Oslo           -1.72   2.15    0.99\n",
      "Panama          1.15  -0.99   -1.05\n",
      "Paris          -0.79   0.54    0.26\n",
      "Rio_de_Janeiro -0.76  -1.13   -1.19\n",
      "San_Paulo      -0.14  -1.00   -1.16\n",
      "Seoul          -0.22  -0.56   -0.28\n",
      "Singpore        0.94  -0.27   -0.96\n",
      "Stockholm      -0.43   1.95   -0.01\n",
      "Sydney         -1.23   0.03    0.51\n",
      "Taipei          1.54   0.67   -0.21\n",
      "Tel_Aviv        0.78  -0.13   -0.51\n",
      "Tokyo           0.00   2.12    1.16\n",
      "Toronto         0.05   0.00    0.76\n",
      "Vienna         -0.58   0.37    0.48\n",
      "Zurich         -0.07   1.41    2.47\n"
     ]
    }
   ],
   "source": [
    "scaler = StandardScaler() \n",
    "X_scaled = scaler.fit_transform(df_clean) \n",
    "\n",
    "X = pd.DataFrame(X_scaled, index=df_clean.index, columns=df_clean.columns)\n",
    "print(X.round(2))"
   ]
  },
  {
   "cell_type": "markdown",
   "id": "a7076add",
   "metadata": {},
   "source": [
    "### Кластеризация"
   ]
  },
  {
   "cell_type": "markdown",
   "id": "0bc133dd",
   "metadata": {},
   "source": [
    "Пробуем значения по умолчанию"
   ]
  },
  {
   "cell_type": "code",
   "execution_count": 18,
   "id": "5b95c5d1",
   "metadata": {},
   "outputs": [
    {
     "data": {
      "text/plain": [
       "array([ 0, -1, -1, -1,  0, -1, -1, -1, -1,  0,  0, -1, -1, -1, -1, -1, -1,\n",
       "       -1, -1, -1,  0, -1, -1, -1, -1, -1,  0,  0, -1, -1, -1, -1, -1,  0,\n",
       "       -1, -1, -1, -1, -1,  0, -1, -1, -1, -1,  0, -1])"
      ]
     },
     "execution_count": 18,
     "metadata": {},
     "output_type": "execute_result"
    }
   ],
   "source": [
    "dbscan = DBSCAN()\n",
    "\n",
    "#  Обучим модель DBSCAN\n",
    "dbscan.fit(X)\n",
    "\n",
    "dbscan.labels_"
   ]
  },
  {
   "cell_type": "markdown",
   "id": "b747bf81",
   "metadata": {},
   "source": [
    "Посмотрим результат кластеризации"
   ]
  },
  {
   "cell_type": "code",
   "execution_count": 19,
   "id": "206f6997",
   "metadata": {},
   "outputs": [
    {
     "name": "stdout",
     "output_type": "stream",
     "text": [
      "-1    36\n",
      " 0    10\n",
      "Name: count, dtype: int64\n"
     ]
    },
    {
     "name": "stderr",
     "output_type": "stream",
     "text": [
      "C:\\Users\\nikgr\\AppData\\Local\\Temp\\ipykernel_19564\\3171365928.py:4: FutureWarning: pandas.value_counts is deprecated and will be removed in a future version. Use pd.Series(obj).value_counts() instead.\n",
      "  table_ = pd.value_counts(pd.Series(dbscan.labels_))\n"
     ]
    }
   ],
   "source": [
    "#  Создаем таблицу частот в pandas \n",
    "#  Команда value_counts() работает с таблицами, поэтому предварительно надо матрицу преобразовать в таблицу\n",
    "\n",
    "table_ = pd.value_counts(pd.Series(dbscan.labels_))\n",
    "table_.sort_index(inplace=True)\n",
    "\n",
    "print(table_)"
   ]
  },
  {
   "cell_type": "markdown",
   "id": "4df94d69",
   "metadata": {},
   "source": [
    "Получился 1 класс и 36 выбросов. Не годится\n",
    "\n",
    "Нужно подобрать более качественные параметры\n",
    "\n",
    "Попробуем перебрать сразу несколько eps и менять вручную min_samples, пока не дойдем до оптимального варианта "
   ]
  },
  {
   "cell_type": "code",
   "execution_count": 25,
   "id": "d6ef8cff",
   "metadata": {},
   "outputs": [
    {
     "name": "stdout",
     "output_type": "stream",
     "text": [
      "eps = 0.4: кол-во кластеров = 8, кол-во выбросов = 22\n",
      "eps = 0.5: кол-во кластеров = 6, кол-во выбросов = 17\n",
      "eps = 0.6: кол-во кластеров = 5, кол-во выбросов = 10\n",
      "eps = 0.8: кол-во кластеров = 4, кол-во выбросов = 4\n",
      "eps = 1.0: кол-во кластеров = 3, кол-во выбросов = 4\n",
      "eps = 1.2: кол-во кластеров = 2, кол-во выбросов = 2\n",
      "eps = 1.5: кол-во кластеров = 1, кол-во выбросов = 1\n"
     ]
    }
   ],
   "source": [
    "min_samples = 2\n",
    "for eps in [0.4, 0.5, 0.6, 0.8, 1.0, 1.2, 1.5]:\n",
    "    db = DBSCAN(eps=eps, min_samples=min_samples)\n",
    "    labels = db.fit_predict(X)\n",
    "    n_clusters = len(set(labels)) - (1 if -1 in labels else 0)\n",
    "    n_noise = list(labels).count(-1)\n",
    "    print(f\"eps = {eps}: кол-во кластеров = {n_clusters}, кол-во выбросов = {n_noise}\")"
   ]
  },
  {
   "cell_type": "markdown",
   "id": "80baec25",
   "metadata": {},
   "source": [
    "При варианте ```eps = 0.8``` и ```min_samples = 2``` мы имеем самое хорошее соотношение кластеров и выбросов\n",
    "\n",
    "Остановимся на таком варианте"
   ]
  },
  {
   "cell_type": "code",
   "execution_count": 28,
   "id": "6f12f4f7",
   "metadata": {},
   "outputs": [
    {
     "name": "stdout",
     "output_type": "stream",
     "text": [
      "-1     4\n",
      " 0    19\n",
      " 1    19\n",
      " 2     2\n",
      " 3     2\n",
      "Name: count, dtype: int64\n"
     ]
    },
    {
     "name": "stderr",
     "output_type": "stream",
     "text": [
      "C:\\Users\\nikgr\\AppData\\Local\\Temp\\ipykernel_19564\\3848227430.py:5: FutureWarning: pandas.value_counts is deprecated and will be removed in a future version. Use pd.Series(obj).value_counts() instead.\n",
      "  table_ = pd.value_counts(pd.Series(dbscan.labels_))\n"
     ]
    }
   ],
   "source": [
    "dbscan = DBSCAN(eps=0.8, metric='euclidean', min_samples=2)\n",
    "\n",
    "dbscan.fit(X)\n",
    "\n",
    "table_ = pd.value_counts(pd.Series(dbscan.labels_))\n",
    "table_.sort_index(inplace=True)\n",
    "\n",
    "print(table_)"
   ]
  },
  {
   "cell_type": "code",
   "execution_count": 29,
   "id": "cfcbc383",
   "metadata": {},
   "outputs": [
    {
     "name": "stderr",
     "output_type": "stream",
     "text": [
      "C:\\Users\\nikgr\\AppData\\Local\\Temp\\ipykernel_19564\\2426085671.py:2: SettingWithCopyWarning: \n",
      "A value is trying to be set on a copy of a slice from a DataFrame.\n",
      "Try using .loc[row_indexer,col_indexer] = value instead\n",
      "\n",
      "See the caveats in the documentation: https://pandas.pydata.org/pandas-docs/stable/user_guide/indexing.html#returning-a-view-versus-a-copy\n",
      "  df_clean['cluster'] = dbscan.labels_\n"
     ]
    }
   ],
   "source": [
    "#  Добавляем столбец cluster к таблице данных\n",
    "df_clean['cluster'] = dbscan.labels_"
   ]
  },
  {
   "cell_type": "code",
   "execution_count": 30,
   "id": "69bdbd3c",
   "metadata": {},
   "outputs": [
    {
     "data": {
      "text/html": [
       "<div>\n",
       "<style scoped>\n",
       "    .dataframe tbody tr th:only-of-type {\n",
       "        vertical-align: middle;\n",
       "    }\n",
       "\n",
       "    .dataframe tbody tr th {\n",
       "        vertical-align: top;\n",
       "    }\n",
       "\n",
       "    .dataframe thead th {\n",
       "        text-align: right;\n",
       "    }\n",
       "</style>\n",
       "<table border=\"1\" class=\"dataframe\">\n",
       "  <thead>\n",
       "    <tr style=\"text-align: right;\">\n",
       "      <th></th>\n",
       "      <th>Work</th>\n",
       "      <th>Price</th>\n",
       "      <th>Salary</th>\n",
       "    </tr>\n",
       "    <tr>\n",
       "      <th>cluster</th>\n",
       "      <th></th>\n",
       "      <th></th>\n",
       "      <th></th>\n",
       "    </tr>\n",
       "  </thead>\n",
       "  <tbody>\n",
       "    <tr>\n",
       "      <th>-1</th>\n",
       "      <td>2051.250000</td>\n",
       "      <td>93.600000</td>\n",
       "      <td>42.375000</td>\n",
       "    </tr>\n",
       "    <tr>\n",
       "      <th>0</th>\n",
       "      <td>1792.000000</td>\n",
       "      <td>77.526316</td>\n",
       "      <td>55.157895</td>\n",
       "    </tr>\n",
       "    <tr>\n",
       "      <th>1</th>\n",
       "      <td>1959.210526</td>\n",
       "      <td>50.115789</td>\n",
       "      <td>14.789474</td>\n",
       "    </tr>\n",
       "    <tr>\n",
       "      <th>2</th>\n",
       "      <td>1874.000000</td>\n",
       "      <td>97.950000</td>\n",
       "      <td>95.150000</td>\n",
       "    </tr>\n",
       "    <tr>\n",
       "      <th>3</th>\n",
       "      <td>1625.000000</td>\n",
       "      <td>114.550000</td>\n",
       "      <td>65.150000</td>\n",
       "    </tr>\n",
       "  </tbody>\n",
       "</table>\n",
       "</div>"
      ],
      "text/plain": [
       "                Work       Price     Salary\n",
       "cluster                                    \n",
       "-1       2051.250000   93.600000  42.375000\n",
       " 0       1792.000000   77.526316  55.157895\n",
       " 1       1959.210526   50.115789  14.789474\n",
       " 2       1874.000000   97.950000  95.150000\n",
       " 3       1625.000000  114.550000  65.150000"
      ]
     },
     "execution_count": 30,
     "metadata": {},
     "output_type": "execute_result"
    }
   ],
   "source": [
    "#  Средние значения в каждом кластере\n",
    "df_clean.groupby('cluster').mean()"
   ]
  },
  {
   "cell_type": "code",
   "execution_count": 31,
   "id": "d2bf0470",
   "metadata": {},
   "outputs": [
    {
     "data": {
      "text/plain": [
       "City\n",
       "Hong_Kong        -1\n",
       "Tokyo            -1\n",
       "Taipei           -1\n",
       "Stockholm        -1\n",
       "Dublin            0\n",
       "Amsterdam         0\n",
       "Chicago           0\n",
       "Brussels          0\n",
       "Houston           0\n",
       "Montreal          0\n",
       "New_York          0\n",
       "Milan             0\n",
       "London            0\n",
       "Dusseldorf        0\n",
       "Copenhagen        0\n",
       "Frankfurt         0\n",
       "Paris             0\n",
       "Sydney            0\n",
       "Toronto           0\n",
       "Vienna            0\n",
       "Luxembourg        0\n",
       "Los_Angeles       0\n",
       "Madrid            0\n",
       "Johannesburg      1\n",
       "Manila            1\n",
       "Kuala_Lumpur      1\n",
       "Buenos_Aires      1\n",
       "Athens            1\n",
       "Bombay            1\n",
       "Bogota            1\n",
       "Caracas           1\n",
       "Lisbon            1\n",
       "Seoul             1\n",
       "Singpore          1\n",
       "Rio_de_Janeiro    1\n",
       "Nicosia           1\n",
       "Mexico_City       1\n",
       "Lagos             1\n",
       "Nairobi           1\n",
       "Panama            1\n",
       "Tel_Aviv          1\n",
       "San_Paulo         1\n",
       "Geneva            2\n",
       "Zurich            2\n",
       "Oslo              3\n",
       "Helsinki          3\n",
       "Name: cluster, dtype: int64"
      ]
     },
     "execution_count": 31,
     "metadata": {},
     "output_type": "execute_result"
    }
   ],
   "source": [
    "#  Выведем состав каждого кластера\n",
    "df_clean['cluster'].sort_values()"
   ]
  },
  {
   "cell_type": "markdown",
   "id": "bd9d3788",
   "metadata": {},
   "source": [
    "### Вывод по лабораторной работе"
   ]
  },
  {
   "cell_type": "markdown",
   "id": "5e8f1835",
   "metadata": {},
   "source": [
    "Исходя из полученных результатов, можно сделать следующие выводы:\n",
    "\n",
    "**Кластер -1 - выбросы и аномалии в данных**\n",
    "\n",
    "**Кластер 0 - сбалансированные и развитые города с хорошими зарплатами и умеренными ценами**\n",
    "\n",
    "**Кластер 1 - недорогие, но низкооплачиваемые города с дешёвой рабочей силой**\n",
    "\n",
    "**Кластер 3 - богатые и дорогие города**\n",
    "\n",
    "**Кластер 4 - города с высокими ценами и средними доходами**"
   ]
  },
  {
   "cell_type": "markdown",
   "id": "cb66d402",
   "metadata": {},
   "source": [
    "## Общий вывод"
   ]
  },
  {
   "cell_type": "markdown",
   "id": "eb7c733d",
   "metadata": {},
   "source": [
    "В ходе лабораторных работ №1–3 была проведена кластеризация данных одного и того же датасета с использованием трёх различных методов:\n",
    "\n",
    "- Иерархический метод — получено 4 кластера\n",
    "\n",
    "- Метод K-Means — получено 5 кластеров\n",
    "\n",
    "- Метод DBSCAN — получено 4 кластера\n",
    "\n",
    "Сравнительный анализ показал, что наиболее наглядным и информативным для данного набора данных оказался иерархический метод кластеризации. Он позволяет легко визуализировать структуру данных и проследить взаимосвязи между объектами\n",
    "\n",
    "Метод K-Means обладает меньшей наглядностью, потому что расстояния между кластерами не всегда очевидны. , но такой же простой и удобный как иерархический метод\n",
    "\n",
    "Метод DBSCAN - удобный метод, который умеет выявлять аномалии и выбросы, однако требует тщательного подбора параметров (eps и min_samples), что делает его использование менее интуитивным и более трудоёмким\n",
    "\n",
    "Таким образом, можно сделать следующие выводы по каждому методу:\n",
    "\n",
    "- Иерархический метод — наиболее наглядный и информативный.\n",
    "\n",
    "- K-Means — простой и достаточно эффективный, но менее визуально очевидный.\n",
    "\n",
    "- DBSCAN — полезен для поиска аномалий, однако требует сложной настройки параметров."
   ]
  }
 ],
 "metadata": {
  "kernelspec": {
   "display_name": "itmo-data-analysis",
   "language": "python",
   "name": "python3"
  },
  "language_info": {
   "codemirror_mode": {
    "name": "ipython",
    "version": 3
   },
   "file_extension": ".py",
   "mimetype": "text/x-python",
   "name": "python",
   "nbconvert_exporter": "python",
   "pygments_lexer": "ipython3",
   "version": "3.11.9"
  }
 },
 "nbformat": 4,
 "nbformat_minor": 5
}

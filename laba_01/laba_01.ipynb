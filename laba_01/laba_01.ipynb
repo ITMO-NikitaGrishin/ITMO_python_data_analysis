{
 "cells": [
  {
   "cell_type": "markdown",
   "id": "e706ad86",
   "metadata": {},
   "source": [
    "# Лабораторная работа №1"
   ]
  },
  {
   "cell_type": "code",
   "execution_count": 1,
   "id": "41aaf221",
   "metadata": {},
   "outputs": [],
   "source": [
    "import numpy as np\n",
    "import pandas as pd\n",
    "\n",
    "import matplotlib\n",
    "import matplotlib.pyplot as plt\n",
    "matplotlib.style.use('ggplot')\n",
    "%matplotlib inline\n",
    "\n",
    "import os\n",
    "from scipy.cluster.hierarchy import dendrogram, linkage, fcluster\n",
    "from sklearn.preprocessing import StandardScaler"
   ]
  },
  {
   "cell_type": "markdown",
   "id": "60d42d85",
   "metadata": {},
   "source": [
    "### Импорт данных"
   ]
  },
  {
   "cell_type": "code",
   "execution_count": 2,
   "id": "cbcbf0ab",
   "metadata": {},
   "outputs": [
    {
     "name": "stdout",
     "output_type": "stream",
     "text": [
      "(48, 3)\n",
      "           Work Price Salary\n",
      "City                        \n",
      "Amsterdam  1714  65,6     49\n",
      "Athens     1792  53,8   30,4\n",
      "Bogota     2152  37,9   11,5\n",
      "Bombay     2052  30,3    5,3\n",
      "Brussels   1708  73,8   50,5\n"
     ]
    }
   ],
   "source": [
    "df = pd.read_csv(\"Econom_Cities_data.csv\", sep=\";\", index_col='City')\n",
    "print(df.shape)\n",
    "print(df.head())"
   ]
  },
  {
   "cell_type": "markdown",
   "id": "cc009663",
   "metadata": {},
   "source": [
    "Смотрим какие данные у нас числовые"
   ]
  },
  {
   "cell_type": "code",
   "execution_count": 3,
   "id": "eff4afb2",
   "metadata": {},
   "outputs": [
    {
     "data": {
      "text/html": [
       "<div>\n",
       "<style scoped>\n",
       "    .dataframe tbody tr th:only-of-type {\n",
       "        vertical-align: middle;\n",
       "    }\n",
       "\n",
       "    .dataframe tbody tr th {\n",
       "        vertical-align: top;\n",
       "    }\n",
       "\n",
       "    .dataframe thead th {\n",
       "        text-align: right;\n",
       "    }\n",
       "</style>\n",
       "<table border=\"1\" class=\"dataframe\">\n",
       "  <thead>\n",
       "    <tr style=\"text-align: right;\">\n",
       "      <th></th>\n",
       "      <th>Work</th>\n",
       "    </tr>\n",
       "  </thead>\n",
       "  <tbody>\n",
       "    <tr>\n",
       "      <th>count</th>\n",
       "      <td>48.000000</td>\n",
       "    </tr>\n",
       "    <tr>\n",
       "      <th>mean</th>\n",
       "      <td>1384.958333</td>\n",
       "    </tr>\n",
       "    <tr>\n",
       "      <th>std</th>\n",
       "      <td>2404.897007</td>\n",
       "    </tr>\n",
       "    <tr>\n",
       "      <th>min</th>\n",
       "      <td>-9999.000000</td>\n",
       "    </tr>\n",
       "    <tr>\n",
       "      <th>25%</th>\n",
       "      <td>1740.750000</td>\n",
       "    </tr>\n",
       "    <tr>\n",
       "      <th>50%</th>\n",
       "      <td>1834.500000</td>\n",
       "    </tr>\n",
       "    <tr>\n",
       "      <th>75%</th>\n",
       "      <td>1972.750000</td>\n",
       "    </tr>\n",
       "    <tr>\n",
       "      <th>max</th>\n",
       "      <td>2375.000000</td>\n",
       "    </tr>\n",
       "  </tbody>\n",
       "</table>\n",
       "</div>"
      ],
      "text/plain": [
       "              Work\n",
       "count    48.000000\n",
       "mean   1384.958333\n",
       "std    2404.897007\n",
       "min   -9999.000000\n",
       "25%    1740.750000\n",
       "50%    1834.500000\n",
       "75%    1972.750000\n",
       "max    2375.000000"
      ]
     },
     "execution_count": 3,
     "metadata": {},
     "output_type": "execute_result"
    }
   ],
   "source": [
    "df.describe()"
   ]
  },
  {
   "cell_type": "markdown",
   "id": "62aa2f7e",
   "metadata": {},
   "source": [
    "Price и Salary не числовые , приведем к числу "
   ]
  },
  {
   "cell_type": "code",
   "execution_count": 4,
   "id": "73518c75",
   "metadata": {},
   "outputs": [],
   "source": [
    "df[\"Price\"]  = pd.to_numeric(df[\"Price\"].astype(str).str.replace(\",\", \".\"))\n",
    "df[\"Salary\"] = pd.to_numeric(df[\"Salary\"].astype(str).str.replace(\",\", \".\"))"
   ]
  },
  {
   "cell_type": "markdown",
   "id": "9a5de90a",
   "metadata": {},
   "source": [
    "Проверяем чтобы все данные теперь были числовые"
   ]
  },
  {
   "cell_type": "code",
   "execution_count": 5,
   "id": "4d9140ee",
   "metadata": {},
   "outputs": [
    {
     "data": {
      "text/html": [
       "<div>\n",
       "<style scoped>\n",
       "    .dataframe tbody tr th:only-of-type {\n",
       "        vertical-align: middle;\n",
       "    }\n",
       "\n",
       "    .dataframe tbody tr th {\n",
       "        vertical-align: top;\n",
       "    }\n",
       "\n",
       "    .dataframe thead th {\n",
       "        text-align: right;\n",
       "    }\n",
       "</style>\n",
       "<table border=\"1\" class=\"dataframe\">\n",
       "  <thead>\n",
       "    <tr style=\"text-align: right;\">\n",
       "      <th></th>\n",
       "      <th>Work</th>\n",
       "      <th>Price</th>\n",
       "      <th>Salary</th>\n",
       "    </tr>\n",
       "  </thead>\n",
       "  <tbody>\n",
       "    <tr>\n",
       "      <th>count</th>\n",
       "      <td>48.000000</td>\n",
       "      <td>48.000000</td>\n",
       "      <td>48.000000</td>\n",
       "    </tr>\n",
       "    <tr>\n",
       "      <th>mean</th>\n",
       "      <td>1384.958333</td>\n",
       "      <td>68.860417</td>\n",
       "      <td>-378.727083</td>\n",
       "    </tr>\n",
       "    <tr>\n",
       "      <th>std</th>\n",
       "      <td>2404.897007</td>\n",
       "      <td>21.784659</td>\n",
       "      <td>2027.338052</td>\n",
       "    </tr>\n",
       "    <tr>\n",
       "      <th>min</th>\n",
       "      <td>-9999.000000</td>\n",
       "      <td>30.300000</td>\n",
       "      <td>-9999.000000</td>\n",
       "    </tr>\n",
       "    <tr>\n",
       "      <th>25%</th>\n",
       "      <td>1740.750000</td>\n",
       "      <td>49.650000</td>\n",
       "      <td>12.250000</td>\n",
       "    </tr>\n",
       "    <tr>\n",
       "      <th>50%</th>\n",
       "      <td>1834.500000</td>\n",
       "      <td>70.500000</td>\n",
       "      <td>40.300000</td>\n",
       "    </tr>\n",
       "    <tr>\n",
       "      <th>75%</th>\n",
       "      <td>1972.750000</td>\n",
       "      <td>81.700000</td>\n",
       "      <td>58.700000</td>\n",
       "    </tr>\n",
       "    <tr>\n",
       "      <th>max</th>\n",
       "      <td>2375.000000</td>\n",
       "      <td>115.500000</td>\n",
       "      <td>100.000000</td>\n",
       "    </tr>\n",
       "  </tbody>\n",
       "</table>\n",
       "</div>"
      ],
      "text/plain": [
       "              Work       Price       Salary\n",
       "count    48.000000   48.000000    48.000000\n",
       "mean   1384.958333   68.860417  -378.727083\n",
       "std    2404.897007   21.784659  2027.338052\n",
       "min   -9999.000000   30.300000 -9999.000000\n",
       "25%    1740.750000   49.650000    12.250000\n",
       "50%    1834.500000   70.500000    40.300000\n",
       "75%    1972.750000   81.700000    58.700000\n",
       "max    2375.000000  115.500000   100.000000"
      ]
     },
     "execution_count": 5,
     "metadata": {},
     "output_type": "execute_result"
    }
   ],
   "source": [
    "df.describe()"
   ]
  },
  {
   "cell_type": "markdown",
   "id": "f3f82495",
   "metadata": {},
   "source": [
    "### Убираем выбросы\n",
    "\n",
    "Проверяем есть ли выбрасу по методу 3IQR. Если есть - удаляем"
   ]
  },
  {
   "cell_type": "code",
   "execution_count": null,
   "id": "61ec98b8",
   "metadata": {},
   "outputs": [
    {
     "name": "stdout",
     "output_type": "stream",
     "text": [
      "Количество выбросов: 2\n",
      "Индексы (города) с выбросами:\n",
      "['Cairo', 'Jakarta']\n",
      "\n",
      "Дальше используем датафрейм df_clean\n"
     ]
    }
   ],
   "source": [
    "# Определяем квартили и межквартильный размах\n",
    "Q1 = df.quantile(0.25)\n",
    "Q3 = df.quantile(0.75)\n",
    "IQR = Q3 - Q1\n",
    "\n",
    "# определяем нижнюю и верхнюю границы\n",
    "lower = Q1 - 3.0 * IQR\n",
    "upper = Q3 + 3.0 * IQR\n",
    "\n",
    "# Определяем выбросы \n",
    "outlier_mask = ((df < lower) | (df > upper)).any(axis=1)\n",
    "\n",
    "#  Отдельно сохраним выбросы и чистые данные \n",
    "outliers = df[outlier_mask]\n",
    "df_clean = df[~outlier_mask]\n",
    "\n",
    "# Вывод информации \n",
    "print(f\"Количество выбросов: {outliers.shape[0]}\")\n",
    "print(\"Индексы (города) с выбросами:\")\n",
    "print(outliers.index.tolist())\n",
    "\n",
    "print()\n",
    "print('Дальше используем датафрейм df_clean')"
   ]
  },
  {
   "cell_type": "markdown",
   "id": "2a27f54d",
   "metadata": {},
   "source": [
    "### Стандартизируем данные\n",
    "\n",
    "т.к. данные находятся в разных диапазонах, нужна стандартизация\n",
    "\n",
    "Формула стандартизации: $z = \\frac{x - \\text{mean}}{\\text{std}}$"
   ]
  },
  {
   "cell_type": "code",
   "execution_count": 10,
   "id": "4f81bad0",
   "metadata": {},
   "outputs": [
    {
     "name": "stdout",
     "output_type": "stream",
     "text": [
      "                Work  Price  Salary\n",
      "City                               \n",
      "Amsterdam      -0.96  -0.21    0.39\n",
      "Athens         -0.51  -0.77   -0.37\n",
      "Bogota          1.58  -1.52   -1.15\n",
      "Bombay          1.00  -1.88   -1.40\n",
      "Brussels       -1.00   0.17    0.45\n",
      "Buenos_Aires    0.53  -0.66   -1.10\n",
      "Caracas         0.93  -0.43   -1.17\n",
      "Chicago         0.26   0.18    0.91\n",
      "Copenhagen     -0.94   1.00    0.95\n",
      "Dublin         -0.70   0.28    0.08\n",
      "Dusseldorf     -1.08   0.40    0.84\n",
      "Frankfurt      -1.33   0.21    0.85\n",
      "Geneva          0.00   1.22    2.07\n",
      "Helsinki       -1.23   2.06    1.10\n",
      "Hong_Kong       2.87  -0.30   -0.48\n",
      "Houston         0.57   0.09    0.28\n",
      "Johannesburg    0.38  -0.90   -0.63\n",
      "Kuala_Lumpur    1.66  -1.26   -1.21\n",
      "Lagos          -0.54  -1.18   -1.50\n",
      "Lisbon         -0.80  -0.66   -0.85\n",
      "London         -0.83   0.67    0.27\n",
      "Los_Angeles     1.09   0.46    1.05\n",
      "Luxembourg     -0.65   0.05    1.29\n",
      "Madrid         -0.99   1.12    0.43\n",
      "Manila          2.25  -1.42   -1.45\n",
      "Mexico_City     0.37  -0.96   -1.38\n",
      "Milan          -0.62   0.56    0.56\n",
      "Montreal       -0.31   0.12    0.68\n",
      "Nairobi         0.45  -1.19   -1.38\n",
      "New_York        0.36   0.62    1.07\n",
      "Nicosia        -0.32  -1.05   -0.46\n",
      "Oslo           -1.72   2.15    0.99\n",
      "Panama          1.15  -0.99   -1.05\n",
      "Paris          -0.79   0.54    0.26\n",
      "Rio_de_Janeiro -0.76  -1.13   -1.19\n",
      "San_Paulo      -0.14  -1.00   -1.16\n",
      "Seoul          -0.22  -0.56   -0.28\n",
      "Singpore        0.94  -0.27   -0.96\n",
      "Stockholm      -0.43   1.95   -0.01\n",
      "Sydney         -1.23   0.03    0.51\n",
      "Taipei          1.54   0.67   -0.21\n",
      "Tel_Aviv        0.78  -0.13   -0.51\n",
      "Tokyo           0.00   2.12    1.16\n",
      "Toronto         0.05   0.00    0.76\n",
      "Vienna         -0.58   0.37    0.48\n",
      "Zurich         -0.07   1.41    2.47\n"
     ]
    }
   ],
   "source": [
    "scaler = StandardScaler() \n",
    "X_scaled = scaler.fit_transform(df_clean) # Сразу изучаем и преобразовываем данные\n",
    "\n",
    "X = pd.DataFrame(X_scaled, index=df_clean.index, columns=df_clean.columns)\n",
    "print(X.round(2))"
   ]
  },
  {
   "cell_type": "markdown",
   "id": "b19850aa",
   "metadata": {},
   "source": [
    "### Построим дендрограмму"
   ]
  },
  {
   "cell_type": "code",
   "execution_count": 14,
   "id": "de497395",
   "metadata": {},
   "outputs": [],
   "source": [
    "# Кластеризуем методом Варда. Расстояние Евклидово\n",
    "link = linkage(X, 'ward', 'euclidean')"
   ]
  },
  {
   "cell_type": "markdown",
   "id": "4c4d45ae",
   "metadata": {},
   "source": [
    "В объекте link хранится история объединения кластеров. Это матрица numpy ```(n-1) x 4``` , где n - число наблюдений \\\n",
    "\\\n",
    "Каждая строка матрицы описывает слияние очередной пары кластеров с номерами ```link[i, 0]``` и ```link[i, 1]```. \\\n",
    "\\\n",
    "Новому кластеру присваивается номер ```n + i``` \\\n",
    "\\\n",
    "Столбец ```link[i, 2]``` содержит расстояние между объединяемыми кластерами, а ```link[i, 3]``` - объем нового кластера."
   ]
  },
  {
   "cell_type": "code",
   "execution_count": 15,
   "id": "623f1565",
   "metadata": {},
   "outputs": [
    {
     "data": {
      "image/png": "[encoded data removed]",
      "text/plain": [
       "<Figure size 1500x900 with 1 Axes>"
      ]
     },
     "metadata": {},
     "output_type": "display_data"
    }
   ],
   "source": [
    "#  Убираем автоматическое определение числа кластеров с помощью color_threshold = -1 \n",
    "fig = plt.figure(figsize=(15,9))\n",
    "dn = dendrogram(link, color_threshold = -1,                 \n",
    "                # массив с названиями объектов для подписи по оси X\n",
    "                labels=X.index.tolist())"
   ]
  },
  {
   "cell_type": "markdown",
   "id": "0142c6a7",
   "metadata": {},
   "source": [
    "### Построим каменистую осыпь\n",
    "\n",
    "Эт график, помогающий определить число кластеров \\\n",
    "Будем использовать второй столбец матрицы link где хранятся расстояния между объединяемыми кластерами."
   ]
  },
  {
   "cell_type": "code",
   "execution_count": 17,
   "id": "116db50a",
   "metadata": {},
   "outputs": [
    {
     "data": {
      "text/plain": [
       "Text(0, 0.5, 'Расстояние')"
      ]
     },
     "execution_count": 17,
     "metadata": {},
     "output_type": "execute_result"
    },
    {
     "data": {
      "image/png": "[encoded data removed]",
      "text/plain": [
       "<Figure size 640x480 with 1 Axes>"
      ]
     },
     "metadata": {},
     "output_type": "display_data"
    }
   ],
   "source": [
    "dist = link[:, 2]\n",
    "\n",
    "dist_rev = dist[::-1]\n",
    "idxs = range(1, len(dist) + 1)\n",
    "plt.plot(idxs, dist_rev, marker='o')\n",
    "plt.title('Расстояние между объединяемыми кластерами')\n",
    "plt.xlabel('Шаг объединения')\n",
    "plt.ylabel('Расстояние')"
   ]
  },
  {
   "cell_type": "markdown",
   "id": "20f09696",
   "metadata": {},
   "source": [
    "На основании анализа дендрограммы и графика «каменистой осыпи» было принято решение выделить **четыре кластера**.\n",
    "\n",
    "При дальнейшем увеличении числа кластеров прирост информативности становится незначительным, а объединение свыше четырёх групп приводит к потере интерпретируемости результатов"
   ]
  },
  {
   "cell_type": "markdown",
   "id": "fea40c53",
   "metadata": {},
   "source": [
    "### Интерпретация результатов "
   ]
  },
  {
   "cell_type": "code",
   "execution_count": null,
   "id": "a4700c97",
   "metadata": {},
   "outputs": [],
   "source": [
    "#  Добавляем столбец cluster к таблице данных\n",
    "df_clean['cluster'] = fcluster(link, 4, criterion='distance')"
   ]
  },
  {
   "cell_type": "code",
   "execution_count": 19,
   "id": "8feeef99",
   "metadata": {},
   "outputs": [
    {
     "data": {
      "text/html": [
       "<div>\n",
       "<style scoped>\n",
       "    .dataframe tbody tr th:only-of-type {\n",
       "        vertical-align: middle;\n",
       "    }\n",
       "\n",
       "    .dataframe tbody tr th {\n",
       "        vertical-align: top;\n",
       "    }\n",
       "\n",
       "    .dataframe thead th {\n",
       "        text-align: right;\n",
       "    }\n",
       "</style>\n",
       "<table border=\"1\" class=\"dataframe\">\n",
       "  <thead>\n",
       "    <tr style=\"text-align: right;\">\n",
       "      <th></th>\n",
       "      <th>Work</th>\n",
       "      <th>Price</th>\n",
       "      <th>Salary</th>\n",
       "    </tr>\n",
       "    <tr>\n",
       "      <th>cluster</th>\n",
       "      <th></th>\n",
       "      <th></th>\n",
       "      <th></th>\n",
       "    </tr>\n",
       "  </thead>\n",
       "  <tbody>\n",
       "    <tr>\n",
       "      <th>1</th>\n",
       "      <td>1780.500000</td>\n",
       "      <td>108.550000</td>\n",
       "      <td>71.300000</td>\n",
       "    </tr>\n",
       "    <tr>\n",
       "      <th>2</th>\n",
       "      <td>1792.000000</td>\n",
       "      <td>77.526316</td>\n",
       "      <td>55.157895</td>\n",
       "    </tr>\n",
       "    <tr>\n",
       "      <th>3</th>\n",
       "      <td>1798.857143</td>\n",
       "      <td>50.942857</td>\n",
       "      <td>19.214286</td>\n",
       "    </tr>\n",
       "    <tr>\n",
       "      <th>4</th>\n",
       "      <td>2082.357143</td>\n",
       "      <td>53.121429</td>\n",
       "      <td>14.914286</td>\n",
       "    </tr>\n",
       "  </tbody>\n",
       "</table>\n",
       "</div>"
      ],
      "text/plain": [
       "                Work       Price     Salary\n",
       "cluster                                    \n",
       "1        1780.500000  108.550000  71.300000\n",
       "2        1792.000000   77.526316  55.157895\n",
       "3        1798.857143   50.942857  19.214286\n",
       "4        2082.357143   53.121429  14.914286"
      ]
     },
     "execution_count": 19,
     "metadata": {},
     "output_type": "execute_result"
    }
   ],
   "source": [
    "#  Средние значения в каждом кластере\n",
    "df_clean.groupby('cluster').mean()"
   ]
  },
  {
   "cell_type": "markdown",
   "id": "9f9c6ad6",
   "metadata": {},
   "source": [
    "### Выводы"
   ]
  },
  {
   "cell_type": "markdown",
   "id": "bf3e2703",
   "metadata": {},
   "source": [
    "### 1 \n",
    "Основное различие между кластерами определяется уровнем цен и зарплат, тогда как количество рабочих часов играет второстепенную роль."
   ]
  },
  {
   "cell_type": "markdown",
   "id": "5275ca79",
   "metadata": {},
   "source": [
    "### 2\n",
    "\n",
    "Исходя из полученных результатов, можно выделить четыре экономических типа городов:\n",
    "\n",
    "**Кластер 1 - богатые и дорогие города**\n",
    "\n",
    "**Кластер 2 - развитые и сбалансированные**\n",
    "\n",
    "**Кластер 3 - недорогие, но и низкооплачиваемые**\n",
    "\n",
    "**Кластер 4 - тоже недорогие и низкооплачиваемые, но при этом очень трудоемкие. По сути дешевая рабочая сила**"
   ]
  }
 ],
 "metadata": {
  "kernelspec": {
   "display_name": "itmo-data-analysis",
   "language": "python",
   "name": "python3"
  },
  "language_info": {
   "codemirror_mode": {
    "name": "ipython",
    "version": 3
   },
   "file_extension": ".py",
   "mimetype": "text/x-python",
   "name": "python",
   "nbconvert_exporter": "python",
   "pygments_lexer": "ipython3",
   "version": "3.11.9"
  }
 },
 "nbformat": 4,
 "nbformat_minor": 5
}
